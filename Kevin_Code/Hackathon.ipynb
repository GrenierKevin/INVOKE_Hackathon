{
 "cells": [
  {
   "cell_type": "code",
   "execution_count": 1,
   "metadata": {},
   "outputs": [
    {
     "name": "stderr",
     "output_type": "stream",
     "text": [
      "c:\\Users\\Kevin\\Desktop\\Hackathon\\venv\\Lib\\site-packages\\tqdm\\auto.py:21: TqdmWarning: IProgress not found. Please update jupyter and ipywidgets. See https://ipywidgets.readthedocs.io/en/stable/user_install.html\n",
      "  from .autonotebook import tqdm as notebook_tqdm\n"
     ]
    }
   ],
   "source": [
    "import torch, os\n",
    "import pandas as pd\n",
    "from transformers import pipeline, BertForSequenceClassification, BertTokenizerFast\n",
    "from torch.utils.data import Dataset"
   ]
  },
  {
   "cell_type": "code",
   "execution_count": 2,
   "metadata": {},
   "outputs": [
    {
     "data": {
      "text/plain": [
       "'cuda'"
      ]
     },
     "execution_count": 2,
     "metadata": {},
     "output_type": "execute_result"
    }
   ],
   "source": [
    "from torch import cuda\n",
    "device = 'cuda' if cuda.is_available() else 'cpu'\n",
    "device"
   ]
  },
  {
   "cell_type": "code",
   "execution_count": 3,
   "metadata": {},
   "outputs": [
    {
     "data": {
      "text/html": [
       "<div>\n",
       "<style scoped>\n",
       "    .dataframe tbody tr th:only-of-type {\n",
       "        vertical-align: middle;\n",
       "    }\n",
       "\n",
       "    .dataframe tbody tr th {\n",
       "        vertical-align: top;\n",
       "    }\n",
       "\n",
       "    .dataframe thead th {\n",
       "        text-align: right;\n",
       "    }\n",
       "</style>\n",
       "<table border=\"1\" class=\"dataframe\">\n",
       "  <thead>\n",
       "    <tr style=\"text-align: right;\">\n",
       "      <th></th>\n",
       "      <th>Record_Notes</th>\n",
       "      <th>Classification</th>\n",
       "    </tr>\n",
       "  </thead>\n",
       "  <tbody>\n",
       "    <tr>\n",
       "      <th>87</th>\n",
       "      <td>7/18/2023 12:14:06 PM Kapeliela, Kelsey -0001 ...</td>\n",
       "      <td>Compressors/Motors</td>\n",
       "    </tr>\n",
       "    <tr>\n",
       "      <th>182</th>\n",
       "      <td>Bakery Freezer Door &amp; Strip Curtain\\rDamaged\\r...</td>\n",
       "      <td>Non-Mechanical Door Repairs</td>\n",
       "    </tr>\n",
       "    <tr>\n",
       "      <th>878</th>\n",
       "      <td>8/1/2023 6:14:01 PM Robak, Anthony -0001 \\rAnt...</td>\n",
       "      <td>Compressors/Motors</td>\n",
       "    </tr>\n",
       "    <tr>\n",
       "      <th>747</th>\n",
       "      <td>WO/ COMPLETE Return to site needed 2nd tech to...</td>\n",
       "      <td>Compressors/Motors</td>\n",
       "    </tr>\n",
       "    <tr>\n",
       "      <th>283</th>\n",
       "      <td>7/21/2023 4:28:59 PM Diaz, Ivan -0001 \\rCall f...</td>\n",
       "      <td>Nuisance Calls</td>\n",
       "    </tr>\n",
       "  </tbody>\n",
       "</table>\n",
       "</div>"
      ],
      "text/plain": [
       "                                          Record_Notes  \\\n",
       "87   7/18/2023 12:14:06 PM Kapeliela, Kelsey -0001 ...   \n",
       "182  Bakery Freezer Door & Strip Curtain\\rDamaged\\r...   \n",
       "878  8/1/2023 6:14:01 PM Robak, Anthony -0001 \\rAnt...   \n",
       "747  WO/ COMPLETE Return to site needed 2nd tech to...   \n",
       "283  7/21/2023 4:28:59 PM Diaz, Ivan -0001 \\rCall f...   \n",
       "\n",
       "                  Classification  \n",
       "87            Compressors/Motors  \n",
       "182  Non-Mechanical Door Repairs  \n",
       "878           Compressors/Motors  \n",
       "747           Compressors/Motors  \n",
       "283               Nuisance Calls  "
      ]
     },
     "execution_count": 3,
     "metadata": {},
     "output_type": "execute_result"
    }
   ],
   "source": [
    "path =\"./Excel_Inputs/TicketClassifierData.csv\"\n",
    "\n",
    "df_org= pd.read_csv(path)\n",
    "\n",
    "df_org = df_org[df_org['Classification'].notnull()]\n",
    "\n",
    "df_org = df_org.sample(frac=1.0, random_state=42)\n",
    "\n",
    "df_org.head()"
   ]
  },
  {
   "cell_type": "code",
   "execution_count": 4,
   "metadata": {},
   "outputs": [
    {
     "data": {
      "text/plain": [
       "['Compressors/Motors',\n",
       " 'Non-Mechanical Door Repairs',\n",
       " 'Nuisance Calls',\n",
       " 'Case Cleaning/Deicing',\n",
       " 'Misc. Billable Repairs and Service Calls',\n",
       " 'Capital Replacement',\n",
       " 'Damage by Customer']"
      ]
     },
     "execution_count": 4,
     "metadata": {},
     "output_type": "execute_result"
    }
   ],
   "source": [
    "labels = df_org['Classification'].unique().tolist()\n",
    "labels = [s.strip() for s in labels ]\n",
    "labels\n"
   ]
  },
  {
   "cell_type": "code",
   "execution_count": 5,
   "metadata": {},
   "outputs": [
    {
     "name": "stdout",
     "output_type": "stream",
     "text": [
      "Compressors/Motors\n",
      "Non-Mechanical Door Repairs\n",
      "Nuisance Calls\n",
      "Case Cleaning/Deicing\n",
      "Misc. Billable Repairs and Service Calls\n",
      "Capital Replacement\n",
      "Damage by Customer\n"
     ]
    }
   ],
   "source": [
    "for key, value in enumerate(labels):\n",
    "    print(value)"
   ]
  },
  {
   "cell_type": "code",
   "execution_count": 6,
   "metadata": {},
   "outputs": [],
   "source": [
    "NUM_LABELS= len(labels)\n",
    "\n",
    "id2label={id:label for id,label in enumerate(labels)}\n",
    "\n",
    "label2id={label:id for id,label in enumerate(labels)}"
   ]
  },
  {
   "cell_type": "code",
   "execution_count": 7,
   "metadata": {},
   "outputs": [
    {
     "data": {
      "text/plain": [
       "{'Compressors/Motors': 0,\n",
       " 'Non-Mechanical Door Repairs': 1,\n",
       " 'Nuisance Calls': 2,\n",
       " 'Case Cleaning/Deicing': 3,\n",
       " 'Misc. Billable Repairs and Service Calls': 4,\n",
       " 'Capital Replacement': 5,\n",
       " 'Damage by Customer': 6}"
      ]
     },
     "execution_count": 7,
     "metadata": {},
     "output_type": "execute_result"
    }
   ],
   "source": [
    "label2id"
   ]
  },
  {
   "cell_type": "code",
   "execution_count": 8,
   "metadata": {},
   "outputs": [
    {
     "data": {
      "text/plain": [
       "{0: 'Compressors/Motors',\n",
       " 1: 'Non-Mechanical Door Repairs',\n",
       " 2: 'Nuisance Calls',\n",
       " 3: 'Case Cleaning/Deicing',\n",
       " 4: 'Misc. Billable Repairs and Service Calls',\n",
       " 5: 'Capital Replacement',\n",
       " 6: 'Damage by Customer'}"
      ]
     },
     "execution_count": 8,
     "metadata": {},
     "output_type": "execute_result"
    }
   ],
   "source": [
    "id2label"
   ]
  },
  {
   "cell_type": "code",
   "execution_count": 9,
   "metadata": {},
   "outputs": [
    {
     "data": {
      "text/html": [
       "<div>\n",
       "<style scoped>\n",
       "    .dataframe tbody tr th:only-of-type {\n",
       "        vertical-align: middle;\n",
       "    }\n",
       "\n",
       "    .dataframe tbody tr th {\n",
       "        vertical-align: top;\n",
       "    }\n",
       "\n",
       "    .dataframe thead th {\n",
       "        text-align: right;\n",
       "    }\n",
       "</style>\n",
       "<table border=\"1\" class=\"dataframe\">\n",
       "  <thead>\n",
       "    <tr style=\"text-align: right;\">\n",
       "      <th></th>\n",
       "      <th>Record_Notes</th>\n",
       "      <th>Classification</th>\n",
       "      <th>labels</th>\n",
       "    </tr>\n",
       "  </thead>\n",
       "  <tbody>\n",
       "    <tr>\n",
       "      <th>87</th>\n",
       "      <td>7/18/2023 12:14:06 PM Kapeliela, Kelsey -0001 ...</td>\n",
       "      <td>Compressors/Motors</td>\n",
       "      <td>0</td>\n",
       "    </tr>\n",
       "    <tr>\n",
       "      <th>182</th>\n",
       "      <td>Bakery Freezer Door &amp; Strip Curtain\\rDamaged\\r...</td>\n",
       "      <td>Non-Mechanical Door Repairs</td>\n",
       "      <td>1</td>\n",
       "    </tr>\n",
       "    <tr>\n",
       "      <th>878</th>\n",
       "      <td>8/1/2023 6:14:01 PM Robak, Anthony -0001 \\rAnt...</td>\n",
       "      <td>Compressors/Motors</td>\n",
       "      <td>0</td>\n",
       "    </tr>\n",
       "    <tr>\n",
       "      <th>747</th>\n",
       "      <td>WO/ COMPLETE Return to site needed 2nd tech to...</td>\n",
       "      <td>Compressors/Motors</td>\n",
       "      <td>0</td>\n",
       "    </tr>\n",
       "    <tr>\n",
       "      <th>283</th>\n",
       "      <td>7/21/2023 4:28:59 PM Diaz, Ivan -0001 \\rCall f...</td>\n",
       "      <td>Nuisance Calls</td>\n",
       "      <td>2</td>\n",
       "    </tr>\n",
       "  </tbody>\n",
       "</table>\n",
       "</div>"
      ],
      "text/plain": [
       "                                          Record_Notes  \\\n",
       "87   7/18/2023 12:14:06 PM Kapeliela, Kelsey -0001 ...   \n",
       "182  Bakery Freezer Door & Strip Curtain\\rDamaged\\r...   \n",
       "878  8/1/2023 6:14:01 PM Robak, Anthony -0001 \\rAnt...   \n",
       "747  WO/ COMPLETE Return to site needed 2nd tech to...   \n",
       "283  7/21/2023 4:28:59 PM Diaz, Ivan -0001 \\rCall f...   \n",
       "\n",
       "                  Classification  labels  \n",
       "87            Compressors/Motors       0  \n",
       "182  Non-Mechanical Door Repairs       1  \n",
       "878           Compressors/Motors       0  \n",
       "747           Compressors/Motors       0  \n",
       "283               Nuisance Calls       2  "
      ]
     },
     "execution_count": 9,
     "metadata": {},
     "output_type": "execute_result"
    }
   ],
   "source": [
    "df_org[\"labels\"]=df_org.Classification.map(lambda x: label2id[x.strip()])\n",
    "\n",
    "df_org.head()"
   ]
  },
  {
   "cell_type": "code",
   "execution_count": 10,
   "metadata": {},
   "outputs": [
    {
     "name": "stderr",
     "output_type": "stream",
     "text": [
      "Some weights of BertForSequenceClassification were not initialized from the model checkpoint at dbmdz/bert-base-turkish-uncased and are newly initialized: ['classifier.bias', 'classifier.weight']\n",
      "You should probably TRAIN this model on a down-stream task to be able to use it for predictions and inference.\n"
     ]
    },
    {
     "data": {
      "text/plain": [
       "BertForSequenceClassification(\n",
       "  (bert): BertModel(\n",
       "    (embeddings): BertEmbeddings(\n",
       "      (word_embeddings): Embedding(32000, 768, padding_idx=0)\n",
       "      (position_embeddings): Embedding(512, 768)\n",
       "      (token_type_embeddings): Embedding(2, 768)\n",
       "      (LayerNorm): LayerNorm((768,), eps=1e-12, elementwise_affine=True)\n",
       "      (dropout): Dropout(p=0.1, inplace=False)\n",
       "    )\n",
       "    (encoder): BertEncoder(\n",
       "      (layer): ModuleList(\n",
       "        (0-11): 12 x BertLayer(\n",
       "          (attention): BertAttention(\n",
       "            (self): BertSdpaSelfAttention(\n",
       "              (query): Linear(in_features=768, out_features=768, bias=True)\n",
       "              (key): Linear(in_features=768, out_features=768, bias=True)\n",
       "              (value): Linear(in_features=768, out_features=768, bias=True)\n",
       "              (dropout): Dropout(p=0.1, inplace=False)\n",
       "            )\n",
       "            (output): BertSelfOutput(\n",
       "              (dense): Linear(in_features=768, out_features=768, bias=True)\n",
       "              (LayerNorm): LayerNorm((768,), eps=1e-12, elementwise_affine=True)\n",
       "              (dropout): Dropout(p=0.1, inplace=False)\n",
       "            )\n",
       "          )\n",
       "          (intermediate): BertIntermediate(\n",
       "            (dense): Linear(in_features=768, out_features=3072, bias=True)\n",
       "            (intermediate_act_fn): GELUActivation()\n",
       "          )\n",
       "          (output): BertOutput(\n",
       "            (dense): Linear(in_features=3072, out_features=768, bias=True)\n",
       "            (LayerNorm): LayerNorm((768,), eps=1e-12, elementwise_affine=True)\n",
       "            (dropout): Dropout(p=0.1, inplace=False)\n",
       "          )\n",
       "        )\n",
       "      )\n",
       "    )\n",
       "    (pooler): BertPooler(\n",
       "      (dense): Linear(in_features=768, out_features=768, bias=True)\n",
       "      (activation): Tanh()\n",
       "    )\n",
       "  )\n",
       "  (dropout): Dropout(p=0.1, inplace=False)\n",
       "  (classifier): Linear(in_features=768, out_features=7, bias=True)\n",
       ")"
      ]
     },
     "execution_count": 10,
     "metadata": {},
     "output_type": "execute_result"
    }
   ],
   "source": [
    "tokenizer = BertTokenizerFast.from_pretrained(\"dbmdz/bert-base-turkish-uncased\", max_length=512)\n",
    "\n",
    "model = BertForSequenceClassification.from_pretrained(\"dbmdz/bert-base-turkish-uncased\", num_labels=NUM_LABELS, id2label=id2label, label2id=label2id)\n",
    "model.to(device)"
   ]
  },
  {
   "cell_type": "code",
   "execution_count": 11,
   "metadata": {},
   "outputs": [
    {
     "data": {
      "text/plain": [
       "(602, 301, 301)"
      ]
     },
     "execution_count": 11,
     "metadata": {},
     "output_type": "execute_result"
    }
   ],
   "source": [
    "SIZE= df_org.shape[0]\n",
    "\n",
    "train_texts= list(df_org.Record_Notes[:SIZE//2])\n",
    "\n",
    "val_texts=   list(df_org.Record_Notes[SIZE//2:(3*SIZE)//4 ])\n",
    "\n",
    "test_texts=  list(df_org.Record_Notes[(3*SIZE)//4:])\n",
    "\n",
    "train_labels= list(df_org.labels[:SIZE//2])\n",
    "\n",
    "val_labels=   list(df_org.labels[SIZE//2:(3*SIZE)//4])\n",
    "\n",
    "test_labels=  list(df_org.labels[(3*SIZE)//4:])\n",
    "\n",
    "len(train_texts), len(val_texts), len(test_texts)"
   ]
  },
  {
   "cell_type": "code",
   "execution_count": 12,
   "metadata": {},
   "outputs": [],
   "source": [
    "train_encodings = tokenizer(train_texts, truncation=True, padding=True)\n",
    "val_encodings  = tokenizer(val_texts, truncation=True, padding=True)\n",
    "test_encodings = tokenizer(test_texts, truncation=True, padding=True)"
   ]
  },
  {
   "cell_type": "code",
   "execution_count": 13,
   "metadata": {},
   "outputs": [],
   "source": [
    "class DataLoader(Dataset):\n",
    "    \"\"\"\n",
    "    Custom Dataset class for handling tokenized text data and corresponding labels.\n",
    "    Inherits from torch.utils.data.Dataset.\n",
    "    \"\"\"\n",
    "    def __init__(self, encodings, labels):\n",
    "        \"\"\"\n",
    "        Initializes the DataLoader class with encodings and labels.\n",
    "\n",
    "        Args:\n",
    "            encodings (dict): A dictionary containing tokenized input text data\n",
    "                              (e.g., 'input_ids', 'token_type_ids', 'attention_mask').\n",
    "            labels (list): A list of integer labels for the input text data.\n",
    "        \"\"\"\n",
    "        self.encodings = encodings\n",
    "        self.labels = labels\n",
    "\n",
    "    def __getitem__(self, idx):\n",
    "        \"\"\"\n",
    "        Returns a dictionary containing tokenized data and the corresponding label for a given index.\n",
    "\n",
    "        Args:\n",
    "            idx (int): The index of the data item to retrieve.\n",
    "\n",
    "        Returns:\n",
    "            item (dict): A dictionary containing the tokenized data and the corresponding label.\n",
    "        \"\"\"\n",
    "        # Retrieve tokenized data for the given index\n",
    "        item = {key: torch.tensor(val[idx]) for key, val in self.encodings.items()}\n",
    "        # Add the label for the given index to the item dictionary\n",
    "        item['labels'] = torch.tensor(self.labels[idx])\n",
    "        return item\n",
    "\n",
    "    def __len__(self):\n",
    "        \"\"\"\n",
    "        Returns the number of data items in the dataset.\n",
    "\n",
    "        Returns:\n",
    "            (int): The number of data items in the dataset.\n",
    "        \"\"\"\n",
    "        return len(self.labels)\n"
   ]
  },
  {
   "cell_type": "code",
   "execution_count": 14,
   "metadata": {},
   "outputs": [],
   "source": [
    "train_dataloader = DataLoader(train_encodings, train_labels)\n",
    "\n",
    "val_dataloader = DataLoader(val_encodings, val_labels)\n",
    "\n",
    "test_dataset = DataLoader(test_encodings, test_labels)"
   ]
  },
  {
   "cell_type": "code",
   "execution_count": 15,
   "metadata": {},
   "outputs": [],
   "source": [
    "from transformers import TrainingArguments, Trainer\n",
    "import accelerate"
   ]
  },
  {
   "cell_type": "code",
   "execution_count": 16,
   "metadata": {},
   "outputs": [],
   "source": [
    "from sklearn.metrics import accuracy_score, precision_recall_fscore_support\n",
    "\n",
    "def compute_metrics(pred):\n",
    "    \"\"\"\n",
    "    Computes accuracy, F1, precision, and recall for a given set of predictions.\n",
    "    \n",
    "    Args:\n",
    "        pred (obj): An object containing label_ids and predictions attributes.\n",
    "            - label_ids (array-like): A 1D array of true class labels.\n",
    "            - predictions (array-like): A 2D array where each row represents\n",
    "              an observation, and each column represents the probability of \n",
    "              that observation belonging to a certain class.\n",
    "              \n",
    "    Returns:\n",
    "        dict: A dictionary containing the following metrics:\n",
    "            - Accuracy (float): The proportion of correctly classified instances.\n",
    "            - F1 (float): The macro F1 score, which is the harmonic mean of precision\n",
    "              and recall. Macro averaging calculates the metric independently for\n",
    "              each class and then takes the average.\n",
    "            - Precision (float): The macro precision, which is the number of true\n",
    "              positives divided by the sum of true positives and false positives.\n",
    "            - Recall (float): The macro recall, which is the number of true positives\n",
    "              divided by the sum of true positives and false negatives.\n",
    "    \"\"\"\n",
    "    # Extract true labels from the input object\n",
    "    labels = pred.label_ids\n",
    "    \n",
    "    # Obtain predicted class labels by finding the column index with the maximum probability\n",
    "    preds = pred.predictions.argmax(-1)\n",
    "    \n",
    "    # Compute macro precision, recall, and F1 score using sklearn's precision_recall_fscore_support function\n",
    "    precision, recall, f1, _ = precision_recall_fscore_support(labels, preds, average='macro')\n",
    "    \n",
    "    # Calculate the accuracy score using sklearn's accuracy_score function\n",
    "    acc = accuracy_score(labels, preds)\n",
    "    \n",
    "    # Return the computed metrics as a dictionary\n",
    "    return {\n",
    "        'Accuracy': acc,\n",
    "        'F1': f1,\n",
    "        'Precision': precision,\n",
    "        'Recall': recall\n",
    "    }"
   ]
  },
  {
   "cell_type": "code",
   "execution_count": 17,
   "metadata": {},
   "outputs": [
    {
     "name": "stderr",
     "output_type": "stream",
     "text": [
      "c:\\Users\\Kevin\\Desktop\\Hackathon\\venv\\Lib\\site-packages\\transformers\\training_args.py:1545: FutureWarning: `evaluation_strategy` is deprecated and will be removed in version 4.46 of 🤗 Transformers. Use `eval_strategy` instead\n",
      "  warnings.warn(\n"
     ]
    }
   ],
   "source": [
    "training_args = TrainingArguments(\n",
    "    # The output directory where the model predictions and checkpoints will be written\n",
    "    output_dir='./BERTARGS', \n",
    "    do_train=True,\n",
    "    do_eval=True,\n",
    "    #  The number of epochs, defaults to 3.0 \n",
    "    num_train_epochs=15,              \n",
    "    per_device_train_batch_size=16,  \n",
    "    per_device_eval_batch_size=32,\n",
    "    # Number of steps used for a linear warmup\n",
    "    warmup_steps=100,                \n",
    "    weight_decay=0.005,\n",
    "    logging_strategy='steps',\n",
    "   # TensorBoard log directory                 \n",
    "    logging_dir='./multi-class-logs',            \n",
    "    logging_steps=50,\n",
    "    evaluation_strategy=\"steps\",\n",
    "    eval_steps=50,\n",
    "    save_strategy=\"steps\", \n",
    "    fp16=True,\n",
    "    load_best_model_at_end=True\n",
    ")"
   ]
  },
  {
   "cell_type": "code",
   "execution_count": 18,
   "metadata": {},
   "outputs": [],
   "source": [
    "trainer = Trainer(\n",
    "    # the pre-trained model that will be fine-tuned \n",
    "    model=model,\n",
    "     # training arguments that we defined above                        \n",
    "    args=training_args,                 \n",
    "    train_dataset=train_dataloader,         \n",
    "    eval_dataset=val_dataloader,            \n",
    "    compute_metrics= compute_metrics\n",
    ")\n"
   ]
  },
  {
   "cell_type": "code",
   "execution_count": 19,
   "metadata": {},
   "outputs": [
    {
     "name": "stderr",
     "output_type": "stream",
     "text": [
      "  9%|▉         | 50/570 [00:20<03:30,  2.47it/s]"
     ]
    },
    {
     "name": "stdout",
     "output_type": "stream",
     "text": [
      "{'loss': 1.7841, 'grad_norm': 5.27805757522583, 'learning_rate': 2.3000000000000003e-05, 'epoch': 1.32}\n"
     ]
    },
    {
     "name": "stderr",
     "output_type": "stream",
     "text": [
      "c:\\Users\\Kevin\\Desktop\\Hackathon\\venv\\Lib\\site-packages\\sklearn\\metrics\\_classification.py:1531: UndefinedMetricWarning: Precision is ill-defined and being set to 0.0 in labels with no predicted samples. Use `zero_division` parameter to control this behavior.\n",
      "  _warn_prf(average, modifier, f\"{metric.capitalize()} is\", len(result))\n",
      "                                                \n",
      "  9%|▉         | 50/570 [00:22<03:30,  2.47it/s]"
     ]
    },
    {
     "name": "stdout",
     "output_type": "stream",
     "text": [
      "{'eval_loss': 1.647851824760437, 'eval_Accuracy': 0.4950166112956811, 'eval_F1': 0.22854533117594864, 'eval_Precision': 0.2076220425277029, 'eval_Recall': 0.2789664252797893, 'eval_runtime': 2.1474, 'eval_samples_per_second': 140.171, 'eval_steps_per_second': 4.657, 'epoch': 1.32}\n"
     ]
    },
    {
     "name": "stderr",
     "output_type": "stream",
     "text": [
      " 18%|█▊        | 100/570 [00:43<03:10,  2.46it/s]"
     ]
    },
    {
     "name": "stdout",
     "output_type": "stream",
     "text": [
      "{'loss': 1.2162, 'grad_norm': 9.213211059570312, 'learning_rate': 4.8e-05, 'epoch': 2.63}\n"
     ]
    },
    {
     "name": "stderr",
     "output_type": "stream",
     "text": [
      "c:\\Users\\Kevin\\Desktop\\Hackathon\\venv\\Lib\\site-packages\\sklearn\\metrics\\_classification.py:1531: UndefinedMetricWarning: Precision is ill-defined and being set to 0.0 in labels with no predicted samples. Use `zero_division` parameter to control this behavior.\n",
      "  _warn_prf(average, modifier, f\"{metric.capitalize()} is\", len(result))\n",
      "                                                 \n",
      " 18%|█▊        | 100/570 [00:45<03:10,  2.46it/s]"
     ]
    },
    {
     "name": "stdout",
     "output_type": "stream",
     "text": [
      "{'eval_loss': 0.8207772970199585, 'eval_Accuracy': 0.7275747508305648, 'eval_F1': 0.4713602875791785, 'eval_Precision': 0.5203289005278156, 'eval_Recall': 0.5072839619718855, 'eval_runtime': 2.1411, 'eval_samples_per_second': 140.585, 'eval_steps_per_second': 4.671, 'epoch': 2.63}\n"
     ]
    },
    {
     "name": "stderr",
     "output_type": "stream",
     "text": [
      " 26%|██▋       | 150/570 [01:05<02:50,  2.46it/s]"
     ]
    },
    {
     "name": "stdout",
     "output_type": "stream",
     "text": [
      "{'loss': 0.6386, 'grad_norm': 3.4033806324005127, 'learning_rate': 4.5106382978723406e-05, 'epoch': 3.95}\n"
     ]
    },
    {
     "name": "stderr",
     "output_type": "stream",
     "text": [
      "c:\\Users\\Kevin\\Desktop\\Hackathon\\venv\\Lib\\site-packages\\sklearn\\metrics\\_classification.py:1531: UndefinedMetricWarning: Precision is ill-defined and being set to 0.0 in labels with no predicted samples. Use `zero_division` parameter to control this behavior.\n",
      "  _warn_prf(average, modifier, f\"{metric.capitalize()} is\", len(result))\n",
      "                                                 \n",
      " 26%|██▋       | 150/570 [01:07<02:50,  2.46it/s]"
     ]
    },
    {
     "name": "stdout",
     "output_type": "stream",
     "text": [
      "{'eval_loss': 0.7811802625656128, 'eval_Accuracy': 0.7873754152823921, 'eval_F1': 0.5584497324877687, 'eval_Precision': 0.5634778821455694, 'eval_Recall': 0.5710386305059658, 'eval_runtime': 2.16, 'eval_samples_per_second': 139.349, 'eval_steps_per_second': 4.63, 'epoch': 3.95}\n"
     ]
    },
    {
     "name": "stderr",
     "output_type": "stream",
     "text": [
      " 35%|███▌      | 200/570 [01:28<02:34,  2.40it/s]"
     ]
    },
    {
     "name": "stdout",
     "output_type": "stream",
     "text": [
      "{'loss': 0.4565, 'grad_norm': 4.09006929397583, 'learning_rate': 3.97872340425532e-05, 'epoch': 5.26}\n"
     ]
    },
    {
     "name": "stderr",
     "output_type": "stream",
     "text": [
      "c:\\Users\\Kevin\\Desktop\\Hackathon\\venv\\Lib\\site-packages\\sklearn\\metrics\\_classification.py:1531: UndefinedMetricWarning: Precision is ill-defined and being set to 0.0 in labels with no predicted samples. Use `zero_division` parameter to control this behavior.\n",
      "  _warn_prf(average, modifier, f\"{metric.capitalize()} is\", len(result))\n",
      "                                                 \n",
      " 35%|███▌      | 200/570 [01:30<02:34,  2.40it/s]"
     ]
    },
    {
     "name": "stdout",
     "output_type": "stream",
     "text": [
      "{'eval_loss': 0.6671614050865173, 'eval_Accuracy': 0.8172757475083057, 'eval_F1': 0.617680133191499, 'eval_Precision': 0.6235771279863948, 'eval_Recall': 0.6203725307327232, 'eval_runtime': 2.1659, 'eval_samples_per_second': 138.974, 'eval_steps_per_second': 4.617, 'epoch': 5.26}\n"
     ]
    },
    {
     "name": "stderr",
     "output_type": "stream",
     "text": [
      " 44%|████▍     | 250/570 [01:50<02:10,  2.45it/s]"
     ]
    },
    {
     "name": "stdout",
     "output_type": "stream",
     "text": [
      "{'loss': 0.2774, 'grad_norm': 7.656033992767334, 'learning_rate': 3.446808510638298e-05, 'epoch': 6.58}\n"
     ]
    },
    {
     "name": "stderr",
     "output_type": "stream",
     "text": [
      "                                                 \n",
      " 44%|████▍     | 250/570 [01:52<02:10,  2.45it/s]"
     ]
    },
    {
     "name": "stdout",
     "output_type": "stream",
     "text": [
      "{'eval_loss': 0.7822851538658142, 'eval_Accuracy': 0.8039867109634552, 'eval_F1': 0.60297629007317, 'eval_Precision': 0.6076487029648953, 'eval_Recall': 0.6113304730494349, 'eval_runtime': 2.1804, 'eval_samples_per_second': 138.05, 'eval_steps_per_second': 4.586, 'epoch': 6.58}\n"
     ]
    },
    {
     "name": "stderr",
     "output_type": "stream",
     "text": [
      " 53%|█████▎    | 300/570 [02:13<01:49,  2.46it/s]"
     ]
    },
    {
     "name": "stdout",
     "output_type": "stream",
     "text": [
      "{'loss': 0.1924, 'grad_norm': 0.6173188090324402, 'learning_rate': 2.9148936170212765e-05, 'epoch': 7.89}\n"
     ]
    },
    {
     "name": "stderr",
     "output_type": "stream",
     "text": [
      "                                                 \n",
      " 53%|█████▎    | 300/570 [02:15<01:49,  2.46it/s]"
     ]
    },
    {
     "name": "stdout",
     "output_type": "stream",
     "text": [
      "{'eval_loss': 0.7441727519035339, 'eval_Accuracy': 0.8073089700996677, 'eval_F1': 0.6328934130598531, 'eval_Precision': 0.7137371077463243, 'eval_Recall': 0.6341174104050223, 'eval_runtime': 2.1385, 'eval_samples_per_second': 140.75, 'eval_steps_per_second': 4.676, 'epoch': 7.89}\n"
     ]
    },
    {
     "name": "stderr",
     "output_type": "stream",
     "text": [
      " 61%|██████▏   | 350/570 [02:35<01:29,  2.46it/s]"
     ]
    },
    {
     "name": "stdout",
     "output_type": "stream",
     "text": [
      "{'loss': 0.1259, 'grad_norm': 5.872751235961914, 'learning_rate': 2.3829787234042557e-05, 'epoch': 9.21}\n"
     ]
    },
    {
     "name": "stderr",
     "output_type": "stream",
     "text": [
      "                                                 \n",
      " 61%|██████▏   | 350/570 [02:38<01:29,  2.46it/s]"
     ]
    },
    {
     "name": "stdout",
     "output_type": "stream",
     "text": [
      "{'eval_loss': 0.8932701945304871, 'eval_Accuracy': 0.8106312292358804, 'eval_F1': 0.630941839370298, 'eval_Precision': 0.6919807721371225, 'eval_Recall': 0.6168160005937858, 'eval_runtime': 2.1741, 'eval_samples_per_second': 138.446, 'eval_steps_per_second': 4.6, 'epoch': 9.21}\n"
     ]
    },
    {
     "name": "stderr",
     "output_type": "stream",
     "text": [
      " 70%|███████   | 400/570 [02:58<01:09,  2.45it/s]"
     ]
    },
    {
     "name": "stdout",
     "output_type": "stream",
     "text": [
      "{'loss': 0.0771, 'grad_norm': 0.08010855317115784, 'learning_rate': 1.851063829787234e-05, 'epoch': 10.53}\n"
     ]
    },
    {
     "name": "stderr",
     "output_type": "stream",
     "text": [
      "                                                 \n",
      " 70%|███████   | 400/570 [03:00<01:09,  2.45it/s]"
     ]
    },
    {
     "name": "stdout",
     "output_type": "stream",
     "text": [
      "{'eval_loss': 0.8022164702415466, 'eval_Accuracy': 0.8372093023255814, 'eval_F1': 0.663524113004532, 'eval_Precision': 0.6925850618127731, 'eval_Recall': 0.6617034448187878, 'eval_runtime': 2.1287, 'eval_samples_per_second': 141.399, 'eval_steps_per_second': 4.698, 'epoch': 10.53}\n"
     ]
    },
    {
     "name": "stderr",
     "output_type": "stream",
     "text": [
      " 79%|███████▉  | 450/570 [03:21<00:50,  2.38it/s]"
     ]
    },
    {
     "name": "stdout",
     "output_type": "stream",
     "text": [
      "{'loss': 0.0326, 'grad_norm': 0.07012136280536652, 'learning_rate': 1.3191489361702127e-05, 'epoch': 11.84}\n"
     ]
    },
    {
     "name": "stderr",
     "output_type": "stream",
     "text": [
      "                                                 \n",
      " 79%|███████▉  | 450/570 [03:23<00:50,  2.38it/s]"
     ]
    },
    {
     "name": "stdout",
     "output_type": "stream",
     "text": [
      "{'eval_loss': 0.9071402549743652, 'eval_Accuracy': 0.8106312292358804, 'eval_F1': 0.6502414252414254, 'eval_Precision': 0.6548064084053891, 'eval_Recall': 0.6531240722095291, 'eval_runtime': 2.211, 'eval_samples_per_second': 136.135, 'eval_steps_per_second': 4.523, 'epoch': 11.84}\n"
     ]
    },
    {
     "name": "stderr",
     "output_type": "stream",
     "text": [
      " 88%|████████▊ | 500/570 [03:44<00:28,  2.45it/s]"
     ]
    },
    {
     "name": "stdout",
     "output_type": "stream",
     "text": [
      "{'loss': 0.0193, 'grad_norm': 2.697798252105713, 'learning_rate': 7.872340425531916e-06, 'epoch': 13.16}\n"
     ]
    },
    {
     "name": "stderr",
     "output_type": "stream",
     "text": [
      "                                                 \n",
      " 88%|████████▊ | 500/570 [03:46<00:28,  2.45it/s]"
     ]
    },
    {
     "name": "stdout",
     "output_type": "stream",
     "text": [
      "{'eval_loss': 0.9057530760765076, 'eval_Accuracy': 0.8205980066445183, 'eval_F1': 0.6712616766891142, 'eval_Precision': 0.6896012480767278, 'eval_Recall': 0.6642285139862397, 'eval_runtime': 2.1393, 'eval_samples_per_second': 140.702, 'eval_steps_per_second': 4.674, 'epoch': 13.16}\n"
     ]
    },
    {
     "name": "stderr",
     "output_type": "stream",
     "text": [
      " 96%|█████████▋| 550/570 [04:09<00:08,  2.45it/s]"
     ]
    },
    {
     "name": "stdout",
     "output_type": "stream",
     "text": [
      "{'loss': 0.008, 'grad_norm': 0.10125429928302765, 'learning_rate': 2.553191489361702e-06, 'epoch': 14.47}\n"
     ]
    },
    {
     "name": "stderr",
     "output_type": "stream",
     "text": [
      "                                                 \n",
      " 96%|█████████▋| 550/570 [04:11<00:08,  2.45it/s]"
     ]
    },
    {
     "name": "stdout",
     "output_type": "stream",
     "text": [
      "{'eval_loss': 0.9126272797584534, 'eval_Accuracy': 0.8172757475083057, 'eval_F1': 0.6677969554340535, 'eval_Precision': 0.682882740904664, 'eval_Recall': 0.6627404187481444, 'eval_runtime': 2.1557, 'eval_samples_per_second': 139.631, 'eval_steps_per_second': 4.639, 'epoch': 14.47}\n"
     ]
    },
    {
     "name": "stderr",
     "output_type": "stream",
     "text": [
      "100%|██████████| 570/570 [04:24<00:00,  2.15it/s]"
     ]
    },
    {
     "name": "stdout",
     "output_type": "stream",
     "text": [
      "{'train_runtime': 264.5463, 'train_samples_per_second': 34.134, 'train_steps_per_second': 2.155, 'train_loss': 0.4238317989466483, 'epoch': 15.0}\n"
     ]
    },
    {
     "name": "stderr",
     "output_type": "stream",
     "text": [
      "\n"
     ]
    },
    {
     "data": {
      "text/plain": [
       "TrainOutput(global_step=570, training_loss=0.4238317989466483, metrics={'train_runtime': 264.5463, 'train_samples_per_second': 34.134, 'train_steps_per_second': 2.155, 'total_flos': 2375999490816000.0, 'train_loss': 0.4238317989466483, 'epoch': 15.0})"
      ]
     },
     "execution_count": 19,
     "metadata": {},
     "output_type": "execute_result"
    }
   ],
   "source": [
    "trainer.train()"
   ]
  },
  {
   "cell_type": "code",
   "execution_count": 20,
   "metadata": {},
   "outputs": [
    {
     "name": "stderr",
     "output_type": "stream",
     "text": [
      "100%|██████████| 19/19 [00:04<00:00,  4.57it/s]\n",
      "100%|██████████| 10/10 [00:01<00:00,  5.10it/s]\n",
      "100%|██████████| 10/10 [00:01<00:00,  5.05it/s]\n"
     ]
    },
    {
     "data": {
      "text/html": [
       "<div>\n",
       "<style scoped>\n",
       "    .dataframe tbody tr th:only-of-type {\n",
       "        vertical-align: middle;\n",
       "    }\n",
       "\n",
       "    .dataframe tbody tr th {\n",
       "        vertical-align: top;\n",
       "    }\n",
       "\n",
       "    .dataframe thead th {\n",
       "        text-align: right;\n",
       "    }\n",
       "</style>\n",
       "<table border=\"1\" class=\"dataframe\">\n",
       "  <thead>\n",
       "    <tr style=\"text-align: right;\">\n",
       "      <th></th>\n",
       "      <th>eval_loss</th>\n",
       "      <th>eval_Accuracy</th>\n",
       "      <th>eval_F1</th>\n",
       "      <th>eval_Precision</th>\n",
       "      <th>eval_Recall</th>\n",
       "    </tr>\n",
       "  </thead>\n",
       "  <tbody>\n",
       "    <tr>\n",
       "      <th>train</th>\n",
       "      <td>0.006645</td>\n",
       "      <td>1.000000</td>\n",
       "      <td>1.000000</td>\n",
       "      <td>1.000000</td>\n",
       "      <td>1.000000</td>\n",
       "    </tr>\n",
       "    <tr>\n",
       "      <th>val</th>\n",
       "      <td>0.905753</td>\n",
       "      <td>0.820598</td>\n",
       "      <td>0.671262</td>\n",
       "      <td>0.689601</td>\n",
       "      <td>0.664229</td>\n",
       "    </tr>\n",
       "    <tr>\n",
       "      <th>test</th>\n",
       "      <td>0.865510</td>\n",
       "      <td>0.850498</td>\n",
       "      <td>0.748564</td>\n",
       "      <td>0.767776</td>\n",
       "      <td>0.739986</td>\n",
       "    </tr>\n",
       "  </tbody>\n",
       "</table>\n",
       "</div>"
      ],
      "text/plain": [
       "       eval_loss  eval_Accuracy   eval_F1  eval_Precision  eval_Recall\n",
       "train   0.006645       1.000000  1.000000        1.000000     1.000000\n",
       "val     0.905753       0.820598  0.671262        0.689601     0.664229\n",
       "test    0.865510       0.850498  0.748564        0.767776     0.739986"
      ]
     },
     "execution_count": 20,
     "metadata": {},
     "output_type": "execute_result"
    }
   ],
   "source": [
    "q=[trainer.evaluate(eval_dataset=df_org) for df_org in [train_dataloader, val_dataloader, test_dataset]]\n",
    "\n",
    "pd.DataFrame(q, index=[\"train\",\"val\",\"test\"]).iloc[:,:5]"
   ]
  },
  {
   "cell_type": "code",
   "execution_count": 21,
   "metadata": {},
   "outputs": [],
   "source": [
    "from transformers import DistilBertForSequenceClassification, DistilBertTokenizerFast"
   ]
  },
  {
   "cell_type": "code",
   "execution_count": 22,
   "metadata": {},
   "outputs": [],
   "source": [
    "def predict(text):\n",
    "    \"\"\"\n",
    "    Predicts the class label for a given input text\n",
    "\n",
    "    Args:\n",
    "        text (str): The input text for which the class label needs to be predicted.\n",
    "\n",
    "    Returns:\n",
    "        probs (torch.Tensor): Class probabilities for the input text.\n",
    "        pred_label_idx (torch.Tensor): The index of the predicted class label.\n",
    "        pred_label (str): The predicted class label.\n",
    "    \"\"\"\n",
    "    # Tokenize the input text and move tensors to the GPU if available\n",
    "    inputs = tokenizer(text, padding=True, truncation=True, max_length=512, return_tensors=\"pt\").to(\"cuda\")\n",
    "\n",
    "    # Get model output (logits)\n",
    "    outputs = model(**inputs)\n",
    "\n",
    "    probs = outputs[0].softmax(1)\n",
    "    \"\"\" Explanation outputs: The BERT model returns a tuple containing the output logits (and possibly other elements depending on the model configuration). In this case, the output logits are the first element in the tuple, which is why we access it using outputs[0].\n",
    "\n",
    "    outputs[0]: This is a tensor containing the raw output logits for each class. The shape of the tensor is (batch_size, num_classes) where batch_size is the number of input samples (in this case, 1, as we are predicting for a single input text) and num_classes is the number of target classes.\n",
    "\n",
    "    softmax(1): The softmax function is applied along dimension 1 (the class dimension) to convert the raw logits into class probabilities. Softmax normalizes the logits so that they sum to 1, making them interpretable as probabilities. \"\"\"\n",
    "\n",
    "    # Get the index of the class with the highest probability\n",
    "    # argmax() finds the index of the maximum value in the tensor along a specified dimension.\n",
    "    # By default, if no dimension is specified, it returns the index of the maximum value in the flattened tensor.\n",
    "    pred_label_idx = probs.argmax()\n",
    "\n",
    "    # Now map the predicted class index to the actual class label \n",
    "    # Since pred_label_idx is a tensor containing a single value (the predicted class index), \n",
    "    # the .item() method is used to extract the value as a scalar\n",
    "    pred_label = model.config.id2label[pred_label_idx.item()]\n",
    "\n",
    "    return probs, pred_label_idx, pred_label"
   ]
  },
  {
   "cell_type": "code",
   "execution_count": 23,
   "metadata": {},
   "outputs": [
    {
     "data": {
      "text/plain": [
       "'NVIDIA GeForce RTX 2060 SUPER'"
      ]
     },
     "execution_count": 23,
     "metadata": {},
     "output_type": "execute_result"
    }
   ],
   "source": [
    "import torch\n",
    "torch.cuda.is_available()\n",
    "cuda_id=torch.cuda.current_device()\n",
    "torch.cuda.get_device_name(cuda_id)"
   ]
  },
  {
   "cell_type": "code",
   "execution_count": 24,
   "metadata": {},
   "outputs": [
    {
     "data": {
      "text/plain": [
       "(tensor([[1.0457e-04, 1.5365e-04, 2.5481e-04, 9.9844e-01, 1.0478e-04, 4.0480e-04,\n",
       "          5.3628e-04]], device='cuda:0', grad_fn=<SoftmaxBackward0>),\n",
       " tensor(3, device='cuda:0'),\n",
       " 'Case Cleaning/Deicing')"
      ]
     },
     "execution_count": 24,
     "metadata": {},
     "output_type": "execute_result"
    }
   ],
   "source": [
    "# Test with a an example text \n",
    "text = \"Please schedule a cleaning and maintenance service for refrigerated display cases MTB-02A and MTB-02B. Both units require thorough de-icing, coil cleaning, and drain unclogging to ensure optimal performance. The following actions are requested:De-icing: Both cases need to be de-iced, with special attention to the coils.Drain Cleaning: The drain on case MTB-02B was previously clogged. Please ensure the drain is cleared to prevent future blockages.Coil Maintenance: Clean the refrigeration coils in both cases to improve efficiency and prevent icing issues.Temperature Calibration: Verify that the set point of each case is properly maintained (set point is 28°F for both), and ensure temperature stability post-cleaning.Valve Operation Check: Confirm the proper functioning of refrigeration valves after cleaning and reassembly.Please coordinate with Manager Al Obregon for timing and product relocation during the cleaning process.Priority Level: MediumRequested Completion Date: [Insert Preferred Date]\"\n",
    "\n",
    "\n",
    "predict(text)"
   ]
  },
  {
   "cell_type": "markdown",
   "metadata": {},
   "source": [
    "Save Model"
   ]
  },
  {
   "cell_type": "code",
   "execution_count": 25,
   "metadata": {},
   "outputs": [
    {
     "data": {
      "text/plain": [
       "('refrigerator-v1-classification-model\\\\tokenizer_config.json',\n",
       " 'refrigerator-v1-classification-model\\\\special_tokens_map.json',\n",
       " 'refrigerator-v1-classification-model\\\\vocab.txt',\n",
       " 'refrigerator-v1-classification-model\\\\added_tokens.json',\n",
       " 'refrigerator-v1-classification-model\\\\tokenizer.json')"
      ]
     },
     "execution_count": 25,
     "metadata": {},
     "output_type": "execute_result"
    }
   ],
   "source": [
    "model_path = \"refrigerator-v1-classification-model\"\n",
    "trainer.save_model(model_path)\n",
    "tokenizer.save_pretrained(model_path)"
   ]
  },
  {
   "cell_type": "markdown",
   "metadata": {},
   "source": [
    "Reload Model"
   ]
  },
  {
   "cell_type": "code",
   "execution_count": 26,
   "metadata": {},
   "outputs": [
    {
     "name": "stderr",
     "output_type": "stream",
     "text": [
      "Hardware accelerator e.g. GPU is available in the environment, but no `device` argument is passed to the `Pipeline` object. Model will be on CPU.\n"
     ]
    }
   ],
   "source": [
    "model_path = \"refrigerator-v1-classification-model\"\n",
    "\n",
    "\n",
    "model = BertForSequenceClassification.from_pretrained(model_path)\n",
    "tokenizer= BertTokenizerFast.from_pretrained(model_path)\n",
    "nlp= pipeline(\"sentiment-analysis\", model=model, tokenizer=tokenizer)"
   ]
  },
  {
   "cell_type": "code",
   "execution_count": 27,
   "metadata": {},
   "outputs": [
    {
     "data": {
      "text/plain": [
       "[{'label': 'Case Cleaning/Deicing', 'score': 0.9984082579612732}]"
      ]
     },
     "execution_count": 27,
     "metadata": {},
     "output_type": "execute_result"
    }
   ],
   "source": [
    "nlp(\"\"\"\"Got to the location and checked in with Manager POOJA SALOOJA when up to the pos cooler and found coil # 2 with an ice up drain pan. Got with Alan and he will fallow up on this call. He will be tomorrow to de-ice it. Talked to the manger to have those two plates move from the top to give him some room.\n",
    "\n",
    "\"\"\")\n"
   ]
  },
  {
   "cell_type": "code",
   "execution_count": 28,
   "metadata": {},
   "outputs": [],
   "source": [
    "# Function to tokenize the \"Record Notes\" with a max length of 512 tokens\n",
    "'''\n",
    "def tokenize_record_notes(note):\n",
    "    # Tokenize and restrict to 512 tokens\n",
    "    tokens = tokenizer(note, truncation=True, padding=True, max_length=512).to(\"cuda\")\n",
    "    return tokens['input_ids']\n",
    "'''\n",
    "# Function to run sentiment analysis on the tokenized input\n",
    "def get_sentiment(note):\n",
    "    # Run sentiment analysis using the pipeline, truncating to 512 tokens\n",
    "    result = nlp(note, truncation=True,padding=True, max_length=512)  # Use truncation here\n",
    "    return result[0]  # Return the label and score from the first result\n"
   ]
  },
  {
   "cell_type": "code",
   "execution_count": 29,
   "metadata": {},
   "outputs": [
    {
     "name": "stdout",
     "output_type": "stream",
     "text": [
      "                                           Record_Notes  \\\n",
      "87    7/18/2023 12:14:06 PM Kapeliela, Kelsey -0001 ...   \n",
      "182   Bakery Freezer Door & Strip Curtain\\rDamaged\\r...   \n",
      "878   8/1/2023 6:14:01 PM Robak, Anthony -0001 \\rAnt...   \n",
      "747   WO/ COMPLETE Return to site needed 2nd tech to...   \n",
      "283   7/21/2023 4:28:59 PM Diaz, Ivan -0001 \\rCall f...   \n",
      "...                                                 ...   \n",
      "1301  Cooper Nichols \\r8/15/23\\rArrival 1330\\rDepart...   \n",
      "1359  Arrived on site checked in went to motor room ...   \n",
      "1404  -While on site inspected coils and verified al...   \n",
      "1057       Replace 3 door gasket due to cuts on gaskets   \n",
      "1400  8/17/2023 9:04:42 AM Becissa, Bachir -0001 \\rC...   \n",
      "\n",
      "                   Classification         Model_Classification     score  \n",
      "87             Compressors/Motors           Compressors/Motors  0.997533  \n",
      "182   Non-Mechanical Door Repairs  Non-Mechanical Door Repairs  0.996548  \n",
      "878            Compressors/Motors           Compressors/Motors  0.996499  \n",
      "747            Compressors/Motors           Compressors/Motors  0.997195  \n",
      "283                Nuisance Calls               Nuisance Calls  0.998359  \n",
      "...                           ...                          ...       ...  \n",
      "1301               Nuisance Calls               Nuisance Calls  0.997372  \n",
      "1359           Compressors/Motors           Compressors/Motors  0.997311  \n",
      "1404        Case Cleaning/Deicing        Case Cleaning/Deicing  0.997782  \n",
      "1057  Non-Mechanical Door Repairs  Non-Mechanical Door Repairs  0.995616  \n",
      "1400               Nuisance Calls               Nuisance Calls  0.998348  \n",
      "\n",
      "[1204 rows x 4 columns]\n"
     ]
    }
   ],
   "source": [
    "df_evaluate = df_org\n",
    "# Apply the tokenization to the \"Record Notes\" column\n",
    "#df_first_three['tokenized_notes'] = df_first_three['Record_Notes'].apply(tokenize_record_notes)\n",
    "# Apply the sentiment analysis to the original \"Record Notes\"\n",
    "df_evaluate['sentiment'] = df_evaluate['Record_Notes'].apply(get_sentiment)\n",
    "df_evaluate['Model_Classification'] = df_evaluate['sentiment'].apply(lambda x: x['label'])\n",
    "df_evaluate['score'] = df_evaluate['sentiment'].apply(lambda x: x['score'])\n",
    "# Drop the original sentiment column if you don't need it\n",
    "df_evaluate = df_evaluate.drop(columns=['sentiment'])\n",
    "\n",
    "# Display the updated DataFrame with separate sentiment label and score columns\n",
    "print(df_evaluate[['Record_Notes','Classification', 'Model_Classification', 'score']])"
   ]
  },
  {
   "cell_type": "code",
   "execution_count": 30,
   "metadata": {},
   "outputs": [
    {
     "name": "stdout",
     "output_type": "stream",
     "text": [
      "DataFrame has been written to Excel_Outputs\\sentiment_analysis_results.xlsx\n"
     ]
    }
   ],
   "source": [
    "import openpyxl\n",
    "# Define the output directory and filename\n",
    "output_dir = \"Excel_Outputs\"\n",
    "output_file = os.path.join(output_dir, \"sentiment_analysis_results.xlsx\")\n",
    "\n",
    "# Create the output directory if it doesn't exist\n",
    "os.makedirs(output_dir, exist_ok=True)\n",
    "\n",
    "# Write the DataFrame to an Excel file\n",
    "df_evaluate.to_excel(output_file, index=False)\n",
    "\n",
    "print(f\"DataFrame has been written to {output_file}\")"
   ]
  },
  {
   "cell_type": "code",
   "execution_count": 31,
   "metadata": {},
   "outputs": [
    {
     "data": {
      "image/png": "[encoded data removed]",
      "text/plain": [
       "<Figure size 1000x600 with 1 Axes>"
      ]
     },
     "metadata": {},
     "output_type": "display_data"
    }
   ],
   "source": [
    "import matplotlib.pyplot as plt\n",
    "import numpy as np\n",
    "\n",
    "df = pd.read_excel(output_file)\n",
    "\n",
    "bins = [i/10 for i in range(11)]  # Bins: [0.0, 0.1, 0.2, ..., 1.0]\n",
    "labels = [f'[{bins[i]}-{bins[i+1]}]' for i in range(len(bins)-1)]  # Labels for the bins\n",
    "\n",
    "# Digitize the scores into the bins\n",
    "df['score_bins'] = pd.cut(df['score'], bins=bins, labels=labels, include_lowest=True)\n",
    "\n",
    "# Count occurrences in each bin\n",
    "hist_data = df['score_bins'].value_counts().sort_index()\n",
    "\n",
    "# Plot the histogram\n",
    "plt.figure(figsize=(10, 6))\n",
    "bars = hist_data.plot(kind='bar', color='skyblue', edgecolor='black')\n",
    "plt.title('Sentiment Score Distribution')\n",
    "plt.xlabel('Score Ranges')\n",
    "plt.ylabel('Frequency')\n",
    "plt.xticks(rotation=45)\n",
    "plt.grid(axis='y')\n",
    "\n",
    "# Add counts above the bars\n",
    "for bar in bars.patches:\n",
    "    plt.text(\n",
    "        bar.get_x() + bar.get_width() / 2,  # X position of the text\n",
    "        bar.get_height(),  # Y position of the text\n",
    "        int(bar.get_height()),  # The height of the bar (the count)\n",
    "        ha='center',  # Horizontal alignment\n",
    "        va='bottom'   # Vertical alignment\n",
    "    )\n",
    "\n",
    "# Save the plot as an image file\n",
    "plt.tight_layout()\n",
    "plt.savefig(os.path.join(output_dir, 'sentiment_score_histogram.png'))\n",
    "\n",
    "# Show the plot\n",
    "plt.show()"
   ]
  },
  {
   "cell_type": "code",
   "execution_count": 32,
   "metadata": {},
   "outputs": [
    {
     "data": {
      "image/png": "[encoded data removed]",
      "text/plain": [
       "<Figure size 800x800 with 1 Axes>"
      ]
     },
     "metadata": {},
     "output_type": "display_data"
    }
   ],
   "source": [
    "# Create a new column 'Match' to check if 'Classification' and 'Label' columns match\n",
    "df['Match'] = df['Classification'] == df['Model_Classification']  # True if match, False otherwise\n",
    "\n",
    "# Count occurrences of correct and incorrect matches\n",
    "match_counts = df['Match'].value_counts()\n",
    "match_labels = ['Correct', 'Incorrect']  # Pie chart labels\n",
    "\n",
    "# Function to display both the count and percentage on the pie chart\n",
    "def autopct_format(values):\n",
    "    def my_format(pct):\n",
    "        total = sum(values)\n",
    "        count = int(round(pct * total / 100.0))  # Calculate count based on percentage\n",
    "        return f'{count} ({pct:.1f}%)'  # Return count and percentage\n",
    "    return my_format\n",
    "\n",
    "# Create a pie chart\n",
    "plt.figure(figsize=(8, 8))\n",
    "plt.pie(\n",
    "    match_counts,               # Data to plot\n",
    "    labels=match_labels,        # Labels for the pie chart\n",
    "    autopct=autopct_format(match_counts),  # Show count and percentage\n",
    "    startangle=90,              # Start angle for the pie chart\n",
    "    colors=['lightgreen', 'salmon'],  # Set colors for the sections\n",
    "    explode=[0.05, 0]           # Slightly separate the 'Correct' section for emphasis\n",
    ")\n",
    "\n",
    "plt.title('Comparison of Classification vs Sentiment Label')\n",
    "plt.axis('equal')  # Equal aspect ratio ensures the pie chart is circular.\n",
    "plt.tight_layout()\n",
    "\n",
    "# Save the pie chart as an image file\n",
    "plt.savefig(os.path.join(output_dir, 'classification_vs_label_pie_chart.png'))\n",
    "\n",
    "# Show the pie chart\n",
    "plt.show()"
   ]
  }
 ],
 "metadata": {
  "kernelspec": {
   "display_name": "venv",
   "language": "python",
   "name": "python3"
  },
  "language_info": {
   "codemirror_mode": {
    "name": "ipython",
    "version": 3
   },
   "file_extension": ".py",
   "mimetype": "text/x-python",
   "name": "python",
   "nbconvert_exporter": "python",
   "pygments_lexer": "ipython3",
   "version": "3.11.5"
  }
 },
 "nbformat": 4,
 "nbformat_minor": 2
}
